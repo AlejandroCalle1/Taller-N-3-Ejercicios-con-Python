{
 "cells": [
  {
   "cell_type": "markdown",
   "metadata": {},
   "source": [
    "Punto:1\n",
    "\n",
    "Area de un poligono"
   ]
  },
  {
   "cell_type": "code",
   "execution_count": null,
   "metadata": {},
   "outputs": [
    {
     "name": "stdout",
     "output_type": "stream",
     "text": [
      "Ingrese la figura a la cual quiere sacar su área\n",
      "El area del  triangulo es  8.0\n"
     ]
    }
   ],
   "source": [
    "def area(tipo, base, altura):\n",
    "    if tipo == \"triangulo\":\n",
    "        return (base * altura) / 2\n",
    "    elif tipo == \"rectangulo\":\n",
    "        return base * altura\n",
    "    elif tipo == \"cuadrado\":\n",
    "        return base ** 2\n",
    "print(\"Ingrese la figura a la cual quiere sacar su área\")\n",
    "tipo = input(\"Las figuras que puede usar son: triangulo, cuadrado, rectangulo: \")\n",
    "base = float(input(\"Ingrese la base o lado: \"))\n",
    "if tipo == \"cuadrado\":\n",
    "    altura = base\n",
    "else:\n",
    "    altura = float(input(\"Ingrese la altura: \"))\n",
    "\n",
    "\n",
    "final = area(tipo, base, altura)\n",
    "print(\"El area del \",tipo,\"es \",final)\n",
    "\n"
   ]
  },
  {
   "cell_type": "markdown",
   "metadata": {},
   "source": [
    "1.Se crea un a funcion, se crean condicionales para que se pueda diferenciar entre las diferentes figuras y dentro de cada una se retorna con el procedimienro correspondiente.\n",
    "\n",
    "2.se pide la figura al usuario,se pide la base,se pone un condicional para que si es cuadrado no se pida la altura ya que no es necesaria para sacar el area."
   ]
  },
  {
   "cell_type": "markdown",
   "metadata": {},
   "source": [
    "Punto:2\n",
    "\n",
    "Invirtiendo cadenas"
   ]
  },
  {
   "cell_type": "code",
   "execution_count": null,
   "metadata": {},
   "outputs": [
    {
     "name": "stdout",
     "output_type": "stream",
     "text": [
      "La cadena invertida es: ODNUM ALOH\n"
     ]
    }
   ],
   "source": [
    "palabra = input(\"Ingresa una palabra: \")\n",
    "resultado = palabra[::-1]\n",
    "print(\"La cadena invertida es:\", resultado)\n"
   ]
  },
  {
   "cell_type": "markdown",
   "metadata": {},
   "source": [
    "1.En este ejercicio se hace huzo de slicing que tiene una estructura:(inicio,fin,paso a paso)\n",
    "slicing permite recorres una cadena con los parametros que queramos.\n",
    "\n",
    "2.se utiliza el metodo slicing que tiene la forma [que en esta parte se especifica desde donde se quiere que inicie separa por \":\",hasta donde quiere que llegue igualmete separado por:,y el paso a paso que va seguir el recorrido de la cadena]"
   ]
  },
  {
   "cell_type": "markdown",
   "metadata": {},
   "source": [
    "Punto:3\n",
    "\n",
    "Eliminando caracteres"
   ]
  },
  {
   "cell_type": "code",
   "execution_count": null,
   "metadata": {},
   "outputs": [
    {
     "name": "stdout",
     "output_type": "stream",
     "text": [
      "cba\n",
      "ihg\n"
     ]
    }
   ],
   "source": [
    "def eliminar(str1, str2):\n",
    "    out1 = \"\"\n",
    "    out2 = \"\"\n",
    "    for palabra in str1:\n",
    "        if palabra not in str2:\n",
    "            out1 = palabra + out1\n",
    "            \n",
    "\n",
    "    for palabra in str2:\n",
    "        if palabra not in str1:\n",
    "            out2 = palabra + out2\n",
    "\n",
    "    return out1, out2\n",
    "str1 = \"abcdef\"\n",
    "str2 = \"defghi\"\n",
    "out1, out2 = eliminar(str1, str2)\n",
    "\n",
    "print(out1)  \n",
    "print(out2)  \n"
   ]
  },
  {
   "cell_type": "markdown",
   "metadata": {},
   "source": [
    "1.Se crea un condicional para que el iterador(palabra) recorra str1 e identifique los caracteres que estan en el str2,da como resultado las palabras que no estan en str2.\n",
    "\n",
    "2.Se hace lo mismo en el segundo for"
   ]
  },
  {
   "cell_type": "markdown",
   "metadata": {},
   "source": [
    "Punto:4\n",
    "\n",
    "numero Armstrong"
   ]
  },
  {
   "cell_type": "code",
   "execution_count": null,
   "metadata": {},
   "outputs": [
    {
     "name": "stdout",
     "output_type": "stream",
     "text": [
      "False\n"
     ]
    }
   ],
   "source": [
    "def amstrong(numero):\n",
    "    convertir = str(numero)\n",
    "    total=0\n",
    "    for i in range(len(convertir)):\n",
    "        total= total+(int(convertir[i]))**len(convertir)\n",
    "        #Se va accediendo a los numeros de el numero que fue almacenado en (convertir)\n",
    "    if total == numero:\n",
    "        return True\n",
    "    else:\n",
    "        return False\n",
    "print(amstrong(126))\n"
   ]
  },
  {
   "cell_type": "markdown",
   "metadata": {},
   "source": [
    "1.Se crea la funcion,para el nunero que quiera el usuario se convierte en un str para que por medio de (len) pueda identificar la cantidad de caracteres.\n",
    "\n",
    "2.Se crea un bucle for para que en el rango de la palabra que ingrese el usuario se lea la cantidad de carcteres,se crea una variable y se hace nuevamente entero el numero que ingreso el usuario pero ya separado el numero en unidades de 1,se potencia a la cantidad de caracteres\n"
   ]
  },
  {
   "cell_type": "markdown",
   "metadata": {},
   "source": [
    "Punto:5\n",
    "\n",
    "Conversor de tiempo"
   ]
  },
  {
   "cell_type": "code",
   "execution_count": 15,
   "metadata": {},
   "outputs": [
    {
     "name": "stdout",
     "output_type": "stream",
     "text": [
      "Este programa convierte día, horas, minutos o segundos a milisegundos \n",
      "El resultado de dia 1   en milisegundos es: 86400000\n"
     ]
    }
   ],
   "source": [
    "def conversor(horario, cantidad):\n",
    "    if horario == \"dia\":\n",
    "        return cantidad * 86400000\n",
    "    elif horario == \"horas\":\n",
    "        return cantidad * 3600000\n",
    "    elif horario == \"minutos\":\n",
    "        return cantidad * 60000\n",
    "    elif horario == \"segundos\":\n",
    "        return cantidad * 1000\n",
    "\n",
    "print(\"Este programa convierte día, horas, minutos o segundos a milisegundos \")\n",
    "horario = input(\"Ingrese la unidad de tiempo (dia, horas, minutos, segundos): \")\n",
    "cantidad = int(input(\"Ingrese la cantidad a convertir: \"))\n",
    "resultado = conversor(horario, cantidad)\n",
    "print(\"El resultado de\", horario,cantidad,\"  en milisegundos es:\", resultado)\n"
   ]
  },
  {
   "cell_type": "markdown",
   "metadata": {},
   "source": [
    "1.Se crea una funcion y se pone condicionales para que con la palabra que ingrese el usuario se haga la operacion corespondiente"
   ]
  },
  {
   "cell_type": "markdown",
   "metadata": {},
   "source": [
    "Punto:6\n",
    "\n",
    "Cuadrado y triangulo 2d"
   ]
  },
  {
   "cell_type": "code",
   "execution_count": 7,
   "metadata": {},
   "outputs": [
    {
     "name": "stdout",
     "output_type": "stream",
     "text": [
      "* \n",
      "* * \n",
      "* * * \n",
      "* * * * \n"
     ]
    }
   ],
   "source": [
    "def dibujarFigura(tipo, tamaño):\n",
    "    if tipo == \"cuadrado\":\n",
    "        for i in range(tamaño):\n",
    "            print(\"* \" * tamaño)\n",
    "    elif tipo == \"triangulo\":\n",
    "        for i in range(1,tamaño +1):\n",
    "            print(\"* \" * i)\n",
    "    \n",
    "tamaño = int(input(\"Introduce el tamaño que deseas: \"))\n",
    "tipo = input(\"Introduce la figura a dibujar (cuadrado o triangulo): \")\n",
    "\n",
    "dibujarFigura(tipo, tamaño)"
   ]
  },
  {
   "cell_type": "markdown",
   "metadata": {},
   "source": [
    "1.Se crea la funcion.\n",
    "\n",
    "2.se crea el condicional para que determine el tipo de figura y que siga el procedimiento correspondiente.\n",
    "\n",
    "3.Para el primer condicional(cuadrado),se crea un ciclo for con el rango del tamaño que ingresea el usuario.\n",
    "\n",
    "4.Si es triangulo,se crea un ciclo for para que \"i\" empiece en 1 y se vaya sumando mas 1 hasta que llegue al tamaño que ingreso en usuario.Luego se imprime el asterisco por \"i\" para crear la figura.\n",
    "\n"
   ]
  },
  {
   "cell_type": "markdown",
   "metadata": {},
   "source": [
    "Ejercicio:7\n",
    "\n",
    "Marco de palabras"
   ]
  },
  {
   "cell_type": "code",
   "execution_count": 8,
   "metadata": {},
   "outputs": [
    {
     "name": "stdout",
     "output_type": "stream",
     "text": [
      "**********\n",
      "* ¿Qué *\n",
      "* te *\n",
      "* parece *\n",
      "* el *\n",
      "* reto? *\n",
      "**********\n"
     ]
    }
   ],
   "source": [
    "def marco(texto):\n",
    "    frase = texto.split()  \n",
    "    palabra_larga = max(len(palabra) for palabra in frase)  \n",
    "\n",
    "    print(\"*\" * (palabra_larga + 4))\n",
    "\n",
    "    for palabra in frase:\n",
    "        print(\"* \" + palabra + \" *\")  \n",
    "    \n",
    "    print(\"*\" * (palabra_larga + 4))\n",
    "\n",
    "marco(\"¿Qué te parece el reto?\")"
   ]
  },
  {
   "cell_type": "markdown",
   "metadata": {},
   "source": [
    "1.split separa la frase en palabras.\n",
    "\n",
    "2.se crea una variable para por medio de \"max\" y len se encuentra la palabra mas larga en frase(que ya fue descompuesta en palabras,asi que lee los elementos de cada palabra gracias a len que descomppne la palabra para saber cuantos caracteres hay).\n",
    "\n",
    "3.se imprime un \"*\" en la parte superirir por la palabra mas grande  y se le suman 4\"*\".\n",
    "\n",
    "4.se crea un ciclo for para que \"palabra\" que es es el iterador recorra la frase que ya fue separa anteriormente.asi se va imprimiendo cada palabra.\n",
    "en el ultimo print se hace lo mismo que en el primero.\n",
    "\n",
    "5.por ultimo se llama a la funcion"
   ]
  },
  {
   "cell_type": "markdown",
   "metadata": {},
   "source": [
    "Ejercicio:8 \n",
    "\n",
    "Parametros url"
   ]
  },
  {
   "cell_type": "code",
   "execution_count": 9,
   "metadata": {},
   "outputs": [
    {
     "name": "stdout",
     "output_type": "stream",
     "text": [
      "2023\n",
      "0\n"
     ]
    }
   ],
   "source": [
    "url=\"https://retosdeprogramacion.com?year=2023&challenge=0\"\n",
    "parametros=url.split(\"?\")\n",
    "parametros = parametros[1].split(\"&\")\n",
    "for parametro in parametros:\n",
    "    if \"=\" in parametro:\n",
    "        valores = parametro.split(\"=\")[1]  \n",
    "        print(valores)\n",
    "\n",
    "    \n",
    "\n"
   ]
  },
  {
   "cell_type": "markdown",
   "metadata": {},
   "source": [
    "1.se usa la funcion split.() para separar la primer parte de la url\n",
    "\n",
    "2.en la misma variable que se hizo el paso anterior,se selecciona la 2 parte\"[1]\" para nuevamente separar los dos valores que nos interesan\"&\".\n",
    "\n",
    "3. se crea un for para que el iterador \"parametro\" recorra la variable parametros.\n",
    "Para por medio del ccondicional \"if\" identifique si hay un \"=\",y asi separe por medio de otro split la parte derecha del \"=\".\n"
   ]
  },
  {
   "cell_type": "markdown",
   "metadata": {},
   "source": []
  }
 ],
 "metadata": {
  "kernelspec": {
   "display_name": "Python 3",
   "language": "python",
   "name": "python3"
  },
  "language_info": {
   "codemirror_mode": {
    "name": "ipython",
    "version": 3
   },
   "file_extension": ".py",
   "mimetype": "text/x-python",
   "name": "python",
   "nbconvert_exporter": "python",
   "pygments_lexer": "ipython3",
   "version": "3.11.9"
  }
 },
 "nbformat": 4,
 "nbformat_minor": 2
}
